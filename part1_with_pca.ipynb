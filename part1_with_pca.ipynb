{
 "cells": [
  {
   "cell_type": "code",
   "execution_count": 13,
   "metadata": {},
   "outputs": [],
   "source": [
    "import qiskit\n",
    "from qiskit import quantum_info\n",
    "from qiskit.execute_function import execute\n",
    "from qiskit import BasicAer\n",
    "import numpy as np\n",
    "import pickle\n",
    "import json\n",
    "import os\n",
    "from collections import Counter\n",
    "from sklearn.metrics import mean_squared_error\n",
    "from typing import Dict, List\n",
    "import matplotlib.pyplot as plt"
   ]
  },
  {
   "cell_type": "code",
   "execution_count": 15,
   "metadata": {},
   "outputs": [
    {
     "data": {
      "image/png": "[encoded data removed]",
      "text/plain": [
       "<Figure size 432x288 with 1 Axes>"
      ]
     },
     "metadata": {
      "needs_background": "light"
     },
     "output_type": "display_data"
    }
   ],
   "source": [
    "#load the actual hackthon data (fashion-mnist)\n",
    "images=np.load('data/images.npy')\n",
    "labels=np.load('data/labels.npy')\n",
    "#you can visualize it\n",
    "plt.imshow(images[1100]);"
   ]
  },
  {
   "cell_type": "code",
   "execution_count": 18,
   "metadata": {},
   "outputs": [],
   "source": [
    "# #submission to part 1, you should make this into a .py file\n",
    "# n=len(dataset)\n",
    "# mse=0\n",
    "# gatecount=0\n",
    "\n",
    "# # Functions 'encode' and 'decode' are dummy.\n",
    "# def encode(image):\n",
    "#     q = qiskit.QuantumRegister(3)\n",
    "#     circuit = qiskit.QuantumCircuit(q)\n",
    "#     if image[0][0]==0:\n",
    "#         circuit.rx(np.pi,0)\n",
    "#     return circuit\n",
    "\n",
    "# def decode(histogram):\n",
    "#     if 1 in histogram.keys():\n",
    "#         image=[[0,0],[0,0]]\n",
    "#     else:\n",
    "#         image=[[1,1],[1,1]]\n",
    "#     return image\n",
    "\n",
    "# def run_part1(image):\n",
    "#     #encode image into a circuit\n",
    "#     circuit = encode(image)\n",
    "\n",
    "#     #simulate circuit\n",
    "#     histogram = simulate(circuit)\n",
    "\n",
    "#     #reconstruct the image\n",
    "#     image_re = decode(histogram)\n",
    "\n",
    "#     return circuit,image_re"
   ]
  },
  {
   "cell_type": "code",
   "execution_count": 17,
   "metadata": {},
   "outputs": [],
   "source": [
    "# #how we grade your submission\n",
    "# n=len(dataset)\n",
    "# mse=0\n",
    "# gatecount=0\n",
    "\n",
    "# for data in dataset:\n",
    "#     #encode image into circuit\n",
    "#     circuit,image_re=run_part1(data['image'])\n",
    "    \n",
    "#     #count the number of 2qubit gates used\n",
    "#     gatecount+=count_gates(circuit)[2]\n",
    "    \n",
    "#     #calculate mse\n",
    "#     mse+=image_mse(data['image'],image_re)\n",
    "    \n",
    "# #fidelity of reconstruction\n",
    "# f=1-mse\n",
    "# gatecount=gatecount/n\n",
    "\n",
    "# #score for part1 \n",
    "# print(f*(0.999**gatecount))"
   ]
  },
  {
   "cell_type": "code",
   "execution_count": 19,
   "metadata": {},
   "outputs": [],
   "source": [
    "# def encode(image):\n",
    "#     q = qiskit.QuantumRegister(3)\n",
    "#     circuit = qiskit.QuantumCircuit(q)\n",
    "#     circuit.h([0, 1, 2])\n",
    "#     return circuit"
   ]
  },
  {
   "cell_type": "code",
   "execution_count": 23,
   "metadata": {
    "tags": []
   },
   "outputs": [],
   "source": [
    "from qiskit import QuantumCircuit\n",
    "from sklearn.decomposition import PCA\n",
    "\n",
    "def encode_amplitude(images, image_index, n_qubits):\n",
    "    N_images = len(images)\n",
    "    # We have 28x28 images as input\n",
    "    # - we can do amplitude encoding of a normalized amplitude vector that has size of 2 ** n (full power of two)\n",
    "    # 28 x 28 = 784 doesn't fit into a full power of two, so we use PCA to reduce the dimensionality to fit it \n",
    "    # into n_qubits (parametrized)\n",
    "    \n",
    "    \n",
    "    # [apply PCA]\n",
    "    # Create an instance of PCA\n",
    "    pca = PCA(n_components=2**n_qubits)\n",
    "\n",
    "    # Fit PCA on your 784-dimensional data\n",
    "    data = images.reshape(N_images, 28 * 28)\n",
    "    pca.fit(data)\n",
    "\n",
    "    # Apply dimensionality reduction on your data\n",
    "    data_pca = pca.transform(data)\n",
    "    image = images[image_index]\n",
    "    image_pca = data_pca[image_index]\n",
    "    min_ = image_pca.min()\n",
    "    image_pca = image_pca - min_\n",
    "    \n",
    "    \n",
    "    # [normalize]\n",
    "    def normalize(row):\n",
    "        #We calculate the squareroot of the sum of the square values of the row\n",
    "        normalization_factor = np.sqrt(np.sum(row**2)) \n",
    "        if normalization_factor == 0.:\n",
    "            #If the sum is zero we return a 0\n",
    "            return 0.0\n",
    "        #Else we divide each value between the sum value above\n",
    "        row = row / normalization_factor\n",
    "        return row, normalization_factor\n",
    "    \n",
    "    image_pca_normalized, normalization_factor = normalize(image_pca)\n",
    "    \n",
    "    \n",
    "    desired_state = image_pca_normalized\n",
    "    \n",
    "    ##########\n",
    "    # Amplitude Encoding\n",
    "    qc = QuantumCircuit(n_qubits)\n",
    "    qc.initialize(desired_state)\n",
    "    qc_decomposed = qc.decompose().decompose().decompose().decompose().decompose().decompose().decompose().decompose().decompose()\n",
    "\n",
    "    ##########\n",
    "    \n",
    "    decoder_params = dict(\n",
    "        pca=pca,\n",
    "        min_=min_,\n",
    "        normalization_factor=normalization_factor,\n",
    "        n_qubits=n_qubits,\n",
    "        image=image\n",
    "    )\n",
    "    \n",
    "    return qc_decomposed, decoder_params\n",
    "\n",
    "def decode_amplitude(histogram, normalization_factor, min_, pca, n_qubits, image):\n",
    "    \n",
    "    histogram_array = np.zeros(2 ** n_qubits)\n",
    "    \n",
    "    for i in range(2 ** n_qubits):\n",
    "        histogram_array[i] = histogram.get(i, 0)\n",
    "\n",
    "    root = np.sqrt(histogram_array)\n",
    "    root = root * normalization_factor\n",
    "    root = root + min_\n",
    "    reconstruction = pca.inverse_transform([root])\n",
    "    #print(reconstruction)\n",
    "    reconstructed_image = reconstruction[0].reshape(28, 28)\n",
    "    \n",
    "    return reconstructed_image\n",
    "\n",
    "qc, decoder_params = encode_amplitude(images, 250, 6)    \n",
    "\n",
    "histogram = simulate(qc)\n",
    "\n",
    "image = decode_amplitude(histogram, **decoder_params)"
   ]
  },
  {
   "cell_type": "code",
   "execution_count": 24,
   "metadata": {},
   "outputs": [
    {
     "data": {
      "text/plain": [
       "121"
      ]
     },
     "execution_count": 24,
     "metadata": {},
     "output_type": "execute_result"
    }
   ],
   "source": [
    "qc.depth()"
   ]
  },
  {
   "cell_type": "code",
   "execution_count": 25,
   "metadata": {},
   "outputs": [
    {
     "data": {
      "text/plain": [
       "Counter({1: 69, 2: 62})"
      ]
     },
     "execution_count": 25,
     "metadata": {},
     "output_type": "execute_result"
    }
   ],
   "source": [
    "count_gates(qc)\n",
    "# 4 qubits -> 2x qubit gates\n",
    "# 6 qubits -> 62 2-qubit gates\n",
    "# 8 qubits -> 253 2-qubit gates"
   ]
  },
  {
   "cell_type": "code",
   "execution_count": 27,
   "metadata": {},
   "outputs": [
    {
     "name": "stderr",
     "output_type": "stream",
     "text": [
      "50it [00:18,  2.75it/s]"
     ]
    },
    {
     "name": "stdout",
     "output_type": "stream",
     "text": [
      "0.18310360453121785\n"
     ]
    },
    {
     "name": "stderr",
     "output_type": "stream",
     "text": [
      "\n"
     ]
    }
   ],
   "source": [
    "import tqdm\n",
    "\n",
    "def run_part1(images, image_index, n_qubits=8):\n",
    "    #encode image into a circuit\n",
    "    circuit, decoder_params = encode_amplitude(images, image_index, n_qubits=n_qubits)\n",
    "\n",
    "    #simulate circuit\n",
    "    histogram = simulate(circuit)\n",
    "\n",
    "    #reconstruct the image\n",
    "    image_re = decode_amplitude(histogram, **decoder_params)\n",
    "\n",
    "    return circuit,image_re\n",
    "\n",
    "#how we grade your submission\n",
    "\n",
    "n=len(dataset)\n",
    "mse=0\n",
    "gatecount=0\n",
    "\n",
    "max_iter = 50\n",
    "\n",
    "n_qubits = 4\n",
    "\n",
    "# 1 - mse with 4 qubits - > 0.18 \n",
    "# 2 - mse with 6 qubits -> 0.5868325769829128\n",
    "\n",
    "for i, data in tqdm.tqdm(enumerate(images)):\n",
    "    #encode image into circuit\n",
    "    circuit, image_re =run_part1(images, i, n_qubits=n_qubits)\n",
    "    \n",
    "    #count the number of 2qubit gates used\n",
    "    gatecount+=count_gates(circuit)[2]\n",
    "    \n",
    "    #calculate mse\n",
    "    #print(images[i].shape)\n",
    "    #print(image_re.shape)\n",
    "    images_orig = images[i] * 255\n",
    "    image_re *= 255\n",
    "    \n",
    "    mse+=image_mse(images_orig,image_re)\n",
    "    \n",
    "    if i == max_iter:\n",
    "        break\n",
    "    \n",
    "#fidelity of reconstruction\n",
    "f=1-mse\n",
    "gatecount=gatecount/max_iter\n",
    "\n",
    "#score for part1 \n",
    "print(f*(0.999**gatecount))"
   ]
  },
  {
   "cell_type": "code",
   "execution_count": 29,
   "metadata": {},
   "outputs": [
    {
     "data": {
      "text/plain": [
       "<matplotlib.colorbar.Colorbar at 0x7f230de32490>"
      ]
     },
     "execution_count": 29,
     "metadata": {},
     "output_type": "execute_result"
    },
    {
     "data": {
      "image/png": "[encoded data removed]",
      "text/plain": [
       "<Figure size 432x288 with 2 Axes>"
      ]
     },
     "metadata": {
      "needs_background": "light"
     },
     "output_type": "display_data"
    }
   ],
   "source": [
    "plt.imshow(images[max_iter] * 255 * 255)\n",
    "plt.colorbar()"
   ]
  },
  {
   "cell_type": "code",
   "execution_count": 30,
   "metadata": {},
   "outputs": [
    {
     "data": {
      "text/plain": [
       "<matplotlib.colorbar.Colorbar at 0x7f2312805d60>"
      ]
     },
     "execution_count": 30,
     "metadata": {},
     "output_type": "execute_result"
    },
    {
     "data": {
      "image/png": "[encoded data removed]",
      "text/plain": [
       "<Figure size 432x288 with 2 Axes>"
      ]
     },
     "metadata": {
      "needs_background": "light"
     },
     "output_type": "display_data"
    }
   ],
   "source": [
    "plt.imshow(image_re * 255 * 255)\n",
    "plt.colorbar()"
   ]
  },
  {
   "cell_type": "code",
   "execution_count": 31,
   "metadata": {},
   "outputs": [
    {
     "data": {
      "text/plain": [
       "0.23335430648607078"
      ]
     },
     "execution_count": 31,
     "metadata": {},
     "output_type": "execute_result"
    }
   ],
   "source": [
    "image_mse(images[max_iter], image_re)"
   ]
  },
  {
   "cell_type": "code",
   "execution_count": 34,
   "metadata": {},
   "outputs": [
    {
     "data": {
      "text/html": [
       "<div>\n",
       "<style scoped>\n",
       "    .dataframe tbody tr th:only-of-type {\n",
       "        vertical-align: middle;\n",
       "    }\n",
       "\n",
       "    .dataframe tbody tr th {\n",
       "        vertical-align: top;\n",
       "    }\n",
       "\n",
       "    .dataframe thead th {\n",
       "        text-align: right;\n",
       "    }\n",
       "</style>\n",
       "<table border=\"1\" class=\"dataframe\">\n",
       "  <thead>\n",
       "    <tr style=\"text-align: right;\">\n",
       "      <th></th>\n",
       "      <th>label</th>\n",
       "    </tr>\n",
       "  </thead>\n",
       "  <tbody>\n",
       "    <tr>\n",
       "      <th>0</th>\n",
       "      <td>True</td>\n",
       "    </tr>\n",
       "    <tr>\n",
       "      <th>1</th>\n",
       "      <td>True</td>\n",
       "    </tr>\n",
       "    <tr>\n",
       "      <th>2</th>\n",
       "      <td>True</td>\n",
       "    </tr>\n",
       "    <tr>\n",
       "      <th>3</th>\n",
       "      <td>True</td>\n",
       "    </tr>\n",
       "    <tr>\n",
       "      <th>4</th>\n",
       "      <td>True</td>\n",
       "    </tr>\n",
       "    <tr>\n",
       "      <th>...</th>\n",
       "      <td>...</td>\n",
       "    </tr>\n",
       "    <tr>\n",
       "      <th>495</th>\n",
       "      <td>True</td>\n",
       "    </tr>\n",
       "    <tr>\n",
       "      <th>496</th>\n",
       "      <td>True</td>\n",
       "    </tr>\n",
       "    <tr>\n",
       "      <th>497</th>\n",
       "      <td>True</td>\n",
       "    </tr>\n",
       "    <tr>\n",
       "      <th>498</th>\n",
       "      <td>True</td>\n",
       "    </tr>\n",
       "    <tr>\n",
       "      <th>499</th>\n",
       "      <td>True</td>\n",
       "    </tr>\n",
       "  </tbody>\n",
       "</table>\n",
       "<p>500 rows × 1 columns</p>\n",
       "</div>"
      ],
      "text/plain": [
       "     label\n",
       "0     True\n",
       "1     True\n",
       "2     True\n",
       "3     True\n",
       "4     True\n",
       "..     ...\n",
       "495   True\n",
       "496   True\n",
       "497   True\n",
       "498   True\n",
       "499   True\n",
       "\n",
       "[500 rows x 1 columns]"
      ]
     },
     "execution_count": 34,
     "metadata": {},
     "output_type": "execute_result"
    }
   ],
   "source": [
    "import pandas as pd\n",
    "pd.DataFrame(labels, columns=[\"label\"]).query(\"label==True\")"
   ]
  },
  {
   "cell_type": "code",
   "execution_count": 35,
   "metadata": {},
   "outputs": [
    {
     "data": {
      "text/plain": [
       "'\\nShirt vs no shirt\\nno shirt pueden ser distintos\\n'"
      ]
     },
     "execution_count": 35,
     "metadata": {},
     "output_type": "execute_result"
    }
   ],
   "source": [
    "\"\"\"\n",
    "Shirt vs no shirt\n",
    "no shirt pueden ser distintos\n",
    "\"\"\""
   ]
  },
  {
   "cell_type": "code",
   "execution_count": 44,
   "metadata": {},
   "outputs": [],
   "source": [
    "#qc.decompose().decompose().decompose().decompose().draw()"
   ]
  },
  {
   "cell_type": "code",
   "execution_count": 37,
   "metadata": {},
   "outputs": [
    {
     "data": {
      "text/plain": [
       "Counter({1: 69, 2: 62})"
      ]
     },
     "execution_count": 37,
     "metadata": {},
     "output_type": "execute_result"
    }
   ],
   "source": [
    "qc_decomposed = qc.decompose().decompose().decompose().decompose().decompose().decompose().decompose().decompose().decompose()\n",
    "count_gates(qc_decomposed)"
   ]
  },
  {
   "cell_type": "code",
   "execution_count": 38,
   "metadata": {},
   "outputs": [
    {
     "data": {
      "text/plain": [
       "dict_keys([1, 2, 3, 4, 5, 6, 7, 8, 9, 10, 11, 12, 13, 14, 15, 16, 17, 18, 19, 20, 21, 22, 23, 24, 25, 26, 27, 28, 29, 30, 31, 32, 33, 34, 35, 36, 37, 38, 39, 40, 41, 42, 43, 44, 45, 46, 47, 48, 49, 50, 51, 52, 53, 54, 55, 56, 57, 58, 59, 60, 61, 62, 63])"
      ]
     },
     "execution_count": 38,
     "metadata": {},
     "output_type": "execute_result"
    }
   ],
   "source": [
    "histogram.keys()"
   ]
  },
  {
   "cell_type": "code",
   "execution_count": 39,
   "metadata": {},
   "outputs": [],
   "source": [
    "import cirq\n",
    "import numpy as np\n",
    "import pickle\n",
    "import json\n",
    "import os\n",
    "import sys\n",
    "from collections import Counter\n",
    "from sklearn.metrics import mean_squared_error"
   ]
  },
  {
   "cell_type": "code",
   "execution_count": 52,
   "metadata": {},
   "outputs": [],
   "source": [
    "if len(sys.argv) > 1:\n",
    "    data_path = sys.argv[1]\n",
    "else:\n",
    "    data_path = '.'\n",
    "\n",
    "#define utility functions\n",
    "\n",
    "def simulate(circuit: cirq.Circuit) -> dict:\n",
    "    \"\"\"This function simulates a Cirq circuit (without measurement) and outputs results in the format of histogram.\n",
    "    \"\"\"\n",
    "    simulator = cirq.Simulator()\n",
    "    result = simulator.simulate(circuit)\n",
    "    \n",
    "    state_vector=result.final_state_vector\n",
    "    \n",
    "    histogram = dict()\n",
    "    for i in range(len(state_vector)):\n",
    "        population = abs(state_vector[i]) ** 2\n",
    "        if population > 1e-9:\n",
    "            histogram[i] = population\n",
    "    \n",
    "    return histogram\n",
    "\n",
    "def histogram_to_category(histogram):\n",
    "    \"\"\"This function takes a histogram representation of circuit execution results, and processes into labels as described in\n",
    "    the problem description.\"\"\"\n",
    "    assert abs(sum(histogram.values())-1)<1e-8\n",
    "    positive=0\n",
    "    for key in histogram.keys():\n",
    "        digits = bin(int(key))[2:].zfill(20)\n",
    "        if digits[-1]=='0':\n",
    "            positive+=histogram[key]\n",
    "        \n",
    "    return positive\n",
    "\n",
    "def count_gates(circuit: cirq.Circuit):\n",
    "    \"\"\"Returns the number of 1-qubit gates, number of 2-qubit gates, number of 3-qubit gates....\"\"\"\n",
    "    counter=Counter([len(op.qubits) for op in circuit.all_operations()])\n",
    "    \n",
    "    #feel free to comment out the following two lines. But make sure you don't have k-qubit gates in your circuit\n",
    "    #for k>2\n",
    "    for i in range(2,20):\n",
    "        assert counter[i]==0\n",
    "        \n",
    "    return counter\n",
    "\n",
    "def image_mse(image1,image2):\n",
    "    # Using sklearns mean squared error:\n",
    "    # https://scikit-learn.org/stable/modules/generated/sklearn.metrics.mean_squared_error.html\n",
    "    return mean_squared_error(255*image1,255*image2)\n",
    "\n",
    "def test():\n",
    "    #load the actual hackthon data (fashion-mnist)\n",
    "    images=np.load('data/images.npy')\n",
    "    labels=np.load('data/labels.npy')\n",
    "    \n",
    "    #test part 1\n",
    "    n=len(images)\n",
    "    mse=0\n",
    "    gatecount=0\n",
    "\n",
    "    for image in images:\n",
    "        #encode image into circuit\n",
    "        circuit,image_re=run_part1(image)\n",
    "\n",
    "        #count the number of 2qubit gates used\n",
    "        gatecount+=count_gates(circuit)[2]\n",
    "\n",
    "        #calculate mse\n",
    "        mse+=image_mse(image,image_re)\n",
    "\n",
    "    #fidelity of reconstruction\n",
    "    f=1-mse/n\n",
    "    gatecount=gatecount/n\n",
    "\n",
    "    #score for part1\n",
    "    score_part1=f*(0.999**gatecount)\n",
    "    \n",
    "    #test part 2\n",
    "    \n",
    "    score=0\n",
    "    gatecount=0\n",
    "    n=len(images)\n",
    "\n",
    "    for i in range(n):\n",
    "        #run part 2\n",
    "        circuit,label=run_part2(images[i])\n",
    "\n",
    "        #count the gate used in the circuit for score calculation\n",
    "        gatecount+=count_gates(circuit)[2]\n",
    "\n",
    "        #check label\n",
    "        if label==labels[i]:\n",
    "            score+=1\n",
    "    #score\n",
    "    score=score/n\n",
    "    gatecount=gatecount/n\n",
    "\n",
    "    score_part2=score*(0.999**gatecount)\n",
    "    \n",
    "    print(score_part1, \",\", score_part2, \",\", data_path, sep=\"\")    "
   ]
  },
  {
   "cell_type": "code",
   "execution_count": 54,
   "metadata": {},
   "outputs": [
    {
     "ename": "TypeError",
     "evalue": "run_part1() missing 1 required positional argument: 'image_index'",
     "output_type": "error",
     "traceback": [
      "\u001b[0;31m---------------------------------------------------------------------------\u001b[0m",
      "\u001b[0;31mTypeError\u001b[0m                                 Traceback (most recent call last)",
      "Cell \u001b[0;32mIn[54], line 120\u001b[0m\n\u001b[1;32m     88\u001b[0m     \u001b[38;5;28;01mreturn\u001b[39;00m circuit,image_re\n\u001b[1;32m     90\u001b[0m \u001b[38;5;66;03m# def run_part2(image):\u001b[39;00m\n\u001b[1;32m     91\u001b[0m \u001b[38;5;66;03m#     # load the quantum classifier circuit\u001b[39;00m\n\u001b[1;32m     92\u001b[0m \u001b[38;5;66;03m#     with open('quantum_classifier.pickle', 'rb') as f:\u001b[39;00m\n\u001b[0;32m   (...)\u001b[0m\n\u001b[1;32m    117\u001b[0m \u001b[38;5;66;03m#      END YOUR CODE       #\u001b[39;00m\n\u001b[1;32m    118\u001b[0m \u001b[38;5;66;03m############################\u001b[39;00m\n\u001b[0;32m--> 120\u001b[0m \u001b[43mtest\u001b[49m\u001b[43m(\u001b[49m\u001b[43m)\u001b[49m\n",
      "Cell \u001b[0;32mIn[52], line 64\u001b[0m, in \u001b[0;36mtest\u001b[0;34m()\u001b[0m\n\u001b[1;32m     60\u001b[0m gatecount\u001b[38;5;241m=\u001b[39m\u001b[38;5;241m0\u001b[39m\n\u001b[1;32m     62\u001b[0m \u001b[38;5;28;01mfor\u001b[39;00m image \u001b[38;5;129;01min\u001b[39;00m images:\n\u001b[1;32m     63\u001b[0m     \u001b[38;5;66;03m#encode image into circuit\u001b[39;00m\n\u001b[0;32m---> 64\u001b[0m     circuit,image_re\u001b[38;5;241m=\u001b[39m\u001b[43mrun_part1\u001b[49m\u001b[43m(\u001b[49m\u001b[43mimage\u001b[49m\u001b[43m)\u001b[49m\n\u001b[1;32m     66\u001b[0m     \u001b[38;5;66;03m#count the number of 2qubit gates used\u001b[39;00m\n\u001b[1;32m     67\u001b[0m     gatecount\u001b[38;5;241m+\u001b[39m\u001b[38;5;241m=\u001b[39mcount_gates(circuit)[\u001b[38;5;241m2\u001b[39m]\n",
      "\u001b[0;31mTypeError\u001b[0m: run_part1() missing 1 required positional argument: 'image_index'"
     ]
    }
   ],
   "source": [
    "############################\n",
    "#      YOUR CODE HERE      #\n",
    "############################\n",
    "def encode_amplitude(images, image_index, n_qubits):\n",
    "    N_images = len(images)\n",
    "    # We have 28x28 images as input\n",
    "    # - we can do amplitude encoding of a normalized amplitude vector that has size of 2 ** n (full power of two)\n",
    "    # 28 x 28 = 784 doesn't fit into a full power of two, so we use PCA to reduce the dimensionality to fit it \n",
    "    # into n_qubits (parametrized)\n",
    "    \n",
    "    \n",
    "    # [apply PCA]\n",
    "    # Create an instance of PCA\n",
    "    pca = PCA(n_components=2**n_qubits)\n",
    "\n",
    "    # Fit PCA on your 784-dimensional data\n",
    "    data = images.reshape(N_images, 28 * 28)\n",
    "    pca.fit(data)\n",
    "\n",
    "    # Apply dimensionality reduction on your data\n",
    "    data_pca = pca.transform(data)\n",
    "    image = images[image_index]\n",
    "    image_pca = data_pca[image_index]\n",
    "    min_ = image_pca.min()\n",
    "    image_pca = image_pca - min_\n",
    "    \n",
    "    \n",
    "    # [normalize]\n",
    "    def normalize(row):\n",
    "        #We calculate the squareroot of the sum of the square values of the row\n",
    "        normalization_factor = np.sqrt(np.sum(row**2)) \n",
    "        if normalization_factor == 0.:\n",
    "            #If the sum is zero we return a 0\n",
    "            return 0.0\n",
    "        #Else we divide each value between the sum value above\n",
    "        row = row / normalization_factor\n",
    "        return row, normalization_factor\n",
    "    \n",
    "    image_pca_normalized, normalization_factor = normalize(image_pca)\n",
    "    \n",
    "    \n",
    "    desired_state = image_pca_normalized\n",
    "    \n",
    "    ##########\n",
    "    # Amplitude Encoding\n",
    "    qc = QuantumCircuit(n_qubits)\n",
    "    qc.initialize(desired_state)\n",
    "    qc_decomposed = qc.decompose().decompose().decompose().decompose().decompose().decompose().decompose().decompose().decompose()\n",
    "\n",
    "    ##########\n",
    "    \n",
    "    decoder_params = dict(\n",
    "        pca=pca,\n",
    "        min_=min_,\n",
    "        normalization_factor=normalization_factor,\n",
    "        n_qubits=n_qubits,\n",
    "        image=image\n",
    "    )\n",
    "    \n",
    "    return qc_decomposed, decoder_params\n",
    "\n",
    "def decode_amplitude(histogram, normalization_factor, min_, pca, n_qubits, image):\n",
    "    \n",
    "    histogram_array = np.zeros(2 ** n_qubits)\n",
    "    \n",
    "    for i in range(2 ** n_qubits):\n",
    "        histogram_array[i] = histogram.get(i, 0)\n",
    "\n",
    "    root = np.sqrt(histogram_array)\n",
    "    root = root * normalization_factor\n",
    "    root = root + min_\n",
    "    reconstruction = pca.inverse_transform([root])\n",
    "    #print(reconstruction)\n",
    "    reconstructed_image = reconstruction[0].reshape(28, 28)\n",
    "    \n",
    "    return reconstructed_image\n",
    "\n",
    "def run_part1(images, image_index, n_qubits=8):\n",
    "    #encode image into a circuit\n",
    "    circuit, decoder_params = encode_amplitude(images, image_index, n_qubits=n_qubits)\n",
    "\n",
    "    #simulate circuit\n",
    "    histogram = simulate(circuit)\n",
    "\n",
    "    #reconstruct the image\n",
    "    image_re = decode_amplitude(histogram, **decoder_params)\n",
    "\n",
    "    return circuit,image_re\n",
    "\n",
    "# def run_part2(image):\n",
    "#     # load the quantum classifier circuit\n",
    "#     with open('quantum_classifier.pickle', 'rb') as f:\n",
    "#         classifier=pickle.load(f)\n",
    "    \n",
    "#     #encode image into circuit\n",
    "#     circuit=encode(image)\n",
    "    \n",
    "#     #append with classifier circuit\n",
    "    \n",
    "#     circuit.append(classifier)\n",
    "    \n",
    "#     #simulate circuit\n",
    "#     histogram=simulate(circuit)\n",
    "        \n",
    "#     #convert histogram to category\n",
    "#     label=histogram_to_category(histogram)\n",
    "    \n",
    "#     #thresholding the label, any way you want\n",
    "#     if label>0.5:\n",
    "#         label=1\n",
    "#     else:\n",
    "#         label=0\n",
    "        \n",
    "#     return circuit,label\n",
    "\n",
    "############################\n",
    "#      END YOUR CODE       #\n",
    "############################\n",
    "\n",
    "test()"
   ]
  },
  {
   "cell_type": "code",
   "execution_count": null,
   "metadata": {},
   "outputs": [],
   "source": []
  },
  {
   "cell_type": "code",
   "execution_count": null,
   "metadata": {},
   "outputs": [],
   "source": []
  },
  {
   "cell_type": "code",
   "execution_count": null,
   "metadata": {},
   "outputs": [],
   "source": []
  }
 ],
 "metadata": {
  "kernelspec": {
   "display_name": "Python 3 [Default]",
   "language": "python",
   "name": "python3"
  },
  "language_info": {
   "codemirror_mode": {
    "name": "ipython",
    "version": 3
   },
   "file_extension": ".py",
   "mimetype": "text/x-python",
   "name": "python",
   "nbconvert_exporter": "python",
   "pygments_lexer": "ipython3",
   "version": "3.9.10"
  },
  "vscode": {
   "interpreter": {
    "hash": "397704579725e15f5c7cb49fe5f0341eb7531c82d19f2c29d197e8b64ab5776b"
   }
  }
 },
 "nbformat": 4,
 "nbformat_minor": 4
}
